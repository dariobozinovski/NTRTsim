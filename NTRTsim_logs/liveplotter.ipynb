{
 "cells": [
  {
   "cell_type": "markdown",
   "metadata": {},
   "source": [
    "continuare qui per creare live plotter dajjeeee"
   ]
  },
  {
   "cell_type": "code",
   "execution_count": 25,
   "metadata": {},
   "outputs": [
    {
     "data": {
      "application/vnd.jupyter.widget-view+json": {
       "model_id": "a1aab4ef93a549bb9d92ad732f321f0c",
       "version_major": 2,
       "version_minor": 0
      },
      "text/plain": [
       "FigureWidget({\n",
       "    'data': [],\n",
       "    'layout': {'template': '...',\n",
       "               'title': {'text': 'Tension in Actuated Cable 1 Over Time'},\n",
       "               'xaxis': {'title': {'text': 'Time'}},\n",
       "               'yaxis': {'title': {'text': 'Tension'}}}\n",
       "})"
      ]
     },
     "metadata": {},
     "output_type": "display_data"
    },
    {
     "data": {
      "text/plain": [
       "<Thread(Thread-19 (update_plot), started 139970992346688)>"
      ]
     },
     "execution_count": 25,
     "metadata": {},
     "output_type": "execute_result"
    },
    {
     "name": "stderr",
     "output_type": "stream",
     "text": [
      "Exception in thread Thread-19 (update_plot):\n",
      "Traceback (most recent call last):\n",
      "  File \"/usr/lib/python3.10/threading.py\", line 1016, in _bootstrap_inner\n",
      "    self.run()\n",
      "  File \"/home/ubuntu/.local/lib/python3.10/site-packages/ipykernel/ipkernel.py\", line 766, in run_closure\n",
      "    _threading_Thread_run(self)\n",
      "  File \"/usr/lib/python3.10/threading.py\", line 953, in run\n",
      "    self._target(*self._args, **self._kwargs)\n",
      "  File \"/tmp/ipykernel_94836/2218206437.py\", line 71, in update_plot\n",
      "  File \"/home/ubuntu/.local/lib/python3.10/site-packages/pandas/core/generic.py\", line 6299, in __getattr__\n",
      "    return object.__getattribute__(self, name)\n",
      "AttributeError: 'Series' object has no attribute 'sleep'\n"
     ]
    }
   ],
   "source": [
    "import pandas as pd\n",
    "import plotly.graph_objects as go\n",
    "from IPython.display import display\n",
    "import os\n",
    "import threading\n",
    "import time\n",
    "\n",
    "# Constants\n",
    "data_per_rod = 7  # XYZ position, Euler angles, mass\n",
    "data_per_spring = 3  # RestLength, CurrentLength, Tension\n",
    "num_actuated_cables = 3  # The same data format as springs\n",
    "num_rods = 6\n",
    "extension = 1\n",
    "num_ext = 0\n",
    "num_comp = 0\n",
    "if(extension):\n",
    "    num_comp = num_rods\n",
    "    num_ext = num_rods*2\n",
    "\n",
    "# File and directory settings\n",
    "directory_path = \"/home/ubuntu/NTRTsim/NTRTsim_logs/to_plot\"\n",
    "\n",
    "# Initialize Plot\n",
    "fig = go.FigureWidget()\n",
    "fig.update_layout(title='Tension in Actuated Cable 1 Over Time', xaxis_title='Time', yaxis_title='Tension')\n",
    "display(fig)\n",
    "\n",
    "# Function to read and parse CSV\n",
    "def parse_csv(file_path):\n",
    "    df = pd.read_csv(file_path, skiprows=2)  # Adjust skiprows if needed to match your CSV format\n",
    "    total_rod_columns = num_rods * data_per_rod\n",
    "    total_actuateted_columns = num_actuated_cables * data_per_spring\n",
    "    total_compound_columns = data_per_rod * num_comp\n",
    "    total_extension_columns = data_per_rod * num_ext\n",
    "    total_spring_columns = (len(df.columns) - total_rod_columns - total_actuateted_columns - total_compound_columns - total_extension_columns - 1) // data_per_spring\n",
    "    \n",
    "    column_names = ['Time']\n",
    "    for compound in range(1, num_comp + 1):\n",
    "        column_names += [f'Comp{compound}_X', f'Comp{compound}_Y', f'Comp{compound}_Z', f'Comp{compound}_EulerX', f'Comp{compound}_EulerY', f'Comp{compound}_EulerZ', f'Comp{compound}_mass']\n",
    "    \n",
    "    for rod in range(1, num_rods + 1):\n",
    "        column_names += [f'Rod{rod}_X', f'Rod{rod}_Y', f'Rod{rod}_Z', f'Rod{rod}_EulerX', f'Rod{rod}_EulerY', f'Rod{rod}_EulerZ', f'Rod{rod}_mass']\n",
    "    \n",
    "    for ext in range(1, num_ext + 1):\n",
    "        column_names += [f'ext{ext}_X', f'ext{ext}_Y', f'ext{ext}_Z', f'ext{ext}_EulerX', f'ext{ext}_EulerY', f'ext{ext}_EulerZ', f'ext{ext}_mass']\n",
    "    \n",
    "    for cable in range(1, num_actuated_cables + 1):\n",
    "        column_names += [f'ActuatedCable{cable}_RestLength', f'ActuatedCable{cable}_CurrentLength', f'ActuatedCable{cable}_Tension']\n",
    "    \n",
    "    for spring in range(1, total_spring_columns + 1):\n",
    "        column_names += [f'Spring{spring}_RestLength', f'Spring{spring}_CurrentLength', f'Spring{spring}_Tension']\n",
    "\n",
    "    column_names += ['to_delete']  # assuming there's a trailing unused column to delete\n",
    "    df = pd.read_csv(file_path, skiprows=2, names=column_names)\n",
    "    df = df.drop(columns=['to_delete'])\n",
    "    return df\n",
    "\n",
    "# Function to update the plot\n",
    "def update_plot():\n",
    "    while True:\n",
    "        all_files = sorted([f for f in os.listdir(directory_path) if os.path.isfile(os.path.join(directory_path, f))])\n",
    "        if all_files:\n",
    "            latest_file = os.path.join(directory_path, all_files[-1])\n",
    "            df = parse_csv(latest_file)\n",
    "            if 'ActuatedCable1_Tension' in df.columns:\n",
    "                time = df['Time']\n",
    "                tension = df['ActuatedCable1_Tension']\n",
    "                with fig.batch_update():\n",
    "                    fig.data = []\n",
    "                    fig.add_scatter(x=time, y=tension, mode='lines+markers')\n",
    "        time.sleep(5)  # Refresh rate\n",
    "def start_live_plot():\n",
    "    thread = threading.Thread(target=update_plot)\n",
    "    thread.start()\n",
    "    return thread\n",
    "start_live_plot()\n",
    "\n",
    "\n"
   ]
  }
 ],
 "metadata": {
  "kernelspec": {
   "display_name": "Python 3",
   "language": "python",
   "name": "python3"
  },
  "language_info": {
   "codemirror_mode": {
    "name": "ipython",
    "version": 3
   },
   "file_extension": ".py",
   "mimetype": "text/x-python",
   "name": "python",
   "nbconvert_exporter": "python",
   "pygments_lexer": "ipython3",
   "version": "3.10.12"
  }
 },
 "nbformat": 4,
 "nbformat_minor": 2
}
